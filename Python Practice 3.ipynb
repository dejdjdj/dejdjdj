{
 "cells": [
  {
   "cell_type": "code",
   "execution_count": 1,
   "id": "c74595f6",
   "metadata": {},
   "outputs": [
    {
     "name": "stdout",
     "output_type": "stream",
     "text": [
      "1\n",
      "2\n",
      "Fizz\n",
      "4\n",
      "Buzz\n",
      "Fizz\n",
      "7\n",
      "8\n",
      "Fizz\n",
      "Buzz\n",
      "11\n",
      "Fizz\n",
      "13\n",
      "14\n",
      "FizzBuzz\n",
      "16\n",
      "17\n",
      "Fizz\n",
      "19\n",
      "Buzz\n"
     ]
    }
   ],
   "source": [
    "#counter\n",
    "\n",
    "counter = 1\n",
    "while counter <= 20:\n",
    "    if counter % 3 == 0 and counter % 5 == 0:\n",
    "        print(\"FizzBuzz\")\n",
    "    elif counter % 3 == 0:\n",
    "        print(\"Fizz\")\n",
    "    elif counter % 5 == 0:\n",
    "        print(\"Buzz\")\n",
    "    else:\n",
    "        print(counter)\n",
    "        \n",
    "    counter += 1"
   ]
  },
  {
   "cell_type": "code",
   "execution_count": null,
   "id": "15b31152",
   "metadata": {},
   "outputs": [],
   "source": [
    "random_num = 47\n",
    "\n",
    "guess = int(input(\"Guess, bobo!\"))\n",
    "\n",
    "if guess == random_num:\n",
    "    print(\"Chamba amputa...\")\n",
    "elif guess > random_num:\n",
    "    print(\"Lower\")\n",
    "else:\n",
    "    print(\"Higher\")"
   ]
  },
  {
   "cell_type": "code",
   "execution_count": 3,
   "id": "ba46717d",
   "metadata": {},
   "outputs": [
    {
     "name": "stdout",
     "output_type": "stream",
     "text": [
      "Guess, bobo! 5\n",
      "Higher\n",
      "Guess, bobo! asd\n",
      "Invalid Input. Try again\n",
      "Guess, bobo! dsa\n",
      "Invalid Input. Try again\n",
      "Guess, bobo! 47\n",
      "Chamba amputa...\n",
      "Bye\n"
     ]
    }
   ],
   "source": [
    "#random num guess\n",
    "\n",
    "random_num = 47\n",
    "\n",
    "while(True):\n",
    "    \n",
    "    \n",
    "    try:\n",
    "        guess = int(input(\"Guess, bobo! \"))\n",
    "    except:\n",
    "        print(\"Invalid Input. Try again\")\n",
    "        continue\n",
    "    \n",
    "    if guess == -1:\n",
    "        print(\"You gave up :P\")\n",
    "        break\n",
    "\n",
    "    if guess == random_num:\n",
    "        print(\"Chamba amputa...\")\n",
    "        break\n",
    "    elif guess > random_num:\n",
    "        print(\"Lower\")\n",
    "    else:\n",
    "        print(\"Higher\")\n",
    "        \n",
    "print(\"Bye\")\n"
   ]
  },
  {
   "cell_type": "code",
   "execution_count": 4,
   "id": "f0e1bded",
   "metadata": {},
   "outputs": [
    {
     "name": "stdout",
     "output_type": "stream",
     "text": [
      "Hello\n"
     ]
    }
   ],
   "source": [
    "print(\"Hello\")"
   ]
  },
  {
   "cell_type": "code",
   "execution_count": null,
   "id": "630e32fa",
   "metadata": {},
   "outputs": [],
   "source": [
    "print(\"Hello\")"
   ]
  },
  {
   "cell_type": "code",
   "execution_count": null,
   "id": "bcca7afb",
   "metadata": {},
   "outputs": [],
   "source": [
    "i = 0 \n",
    "\n",
    "while(i < 10):\n",
    "    print(\"*\")\n",
    "    i += 1"
   ]
  },
  {
   "cell_type": "code",
   "execution_count": null,
   "id": "56b9cec7",
   "metadata": {},
   "outputs": [],
   "source": [
    "#asterisk in the same line\n",
    "\n",
    "i = 0 \n",
    "\n",
    "while(i < 10):\n",
    "    print(\"*\", end = \" \")\n",
    "    i += 1"
   ]
  },
  {
   "cell_type": "markdown",
   "id": "f0b01dc4",
   "metadata": {},
   "source": [
    "### Print a Solid Block\n"
   ]
  },
  {
   "cell_type": "code",
   "execution_count": 33,
   "id": "23db550d",
   "metadata": {},
   "outputs": [
    {
     "name": "stdout",
     "output_type": "stream",
     "text": [
      "* * * * * * * * * * \n",
      "* * * * * * * * * * \n",
      "* * * * * * * * * * \n",
      "* * * * * * * * * * \n",
      "* * * * * * * * * * \n",
      "* * * * * * * * * * \n",
      "* * * * * * * * * * \n",
      "* * * * * * * * * * \n",
      "* * * * * * * * * * \n",
      "* * * * * * * * * * \n"
     ]
    }
   ],
   "source": [
    "# square\n",
    "\n",
    "i = 0 \n",
    "    \n",
    "while(i < 10):\n",
    "    # nested loop\n",
    "    j = 0\n",
    "    while(j < 10):\n",
    "        print(\"*\", end = \" \")\n",
    "        j += 1\n",
    "    \n",
    "    print()\n",
    "    i += 1  \n"
   ]
  },
  {
   "cell_type": "code",
   "execution_count": 36,
   "id": "eb21e8ec",
   "metadata": {},
   "outputs": [
    {
     "name": "stdout",
     "output_type": "stream",
     "text": [
      "\n",
      "* \n",
      "* * \n",
      "* * * \n",
      "* * * * \n",
      "* * * * * \n",
      "* * * * * * \n",
      "* * * * * * * \n",
      "* * * * * * * * \n",
      "* * * * * * * * * \n"
     ]
    }
   ],
   "source": [
    "# triangle\n",
    "\n",
    "i = 0\n",
    "\n",
    "while(i < 10):\n",
    "    # nested loop\n",
    "    j = 0\n",
    "    while(j < i):\n",
    "        print(\"*\", end = \" \")\n",
    "        j += 1\n",
    "    \n",
    "    print()\n",
    "    i += 1 "
   ]
  },
  {
   "cell_type": "code",
   "execution_count": 38,
   "id": "2c624f8a",
   "metadata": {},
   "outputs": [
    {
     "name": "stdout",
     "output_type": "stream",
     "text": [
      "\n",
      "1 \n",
      "2 2 \n",
      "3 3 3 \n",
      "4 4 4 4 \n",
      "5 5 5 5 5 \n",
      "4 4 4 4 \n",
      "3 3 3 \n",
      "2 2 \n",
      "1 \n"
     ]
    }
   ],
   "source": [
    "# nested loops\n",
    "\n",
    "i = 0\n",
    "\n",
    "while(i < 5):\n",
    "    # nested loop\n",
    "    j = 0\n",
    "    while(j < i):\n",
    "        print(i, end = \" \")\n",
    "        j += 1\n",
    "    \n",
    "    print()\n",
    "    i += 1 \n",
    "\n",
    "while(i > 0):\n",
    "    # nested loop\n",
    "    j = 0\n",
    "    while(j < i):\n",
    "        print(i, end = \" \")\n",
    "        j += 1\n",
    "    \n",
    "    print()\n",
    "    i -= 1   \n"
   ]
  },
  {
   "cell_type": "code",
   "execution_count": null,
   "id": "9ddfeb3e",
   "metadata": {},
   "outputs": [],
   "source": []
  }
 ],
 "metadata": {
  "kernelspec": {
   "display_name": "Python 3",
   "language": "python",
   "name": "python3"
  },
  "language_info": {
   "codemirror_mode": {
    "name": "ipython",
    "version": 3
   },
   "file_extension": ".py",
   "mimetype": "text/x-python",
   "name": "python",
   "nbconvert_exporter": "python",
   "pygments_lexer": "ipython3",
   "version": "3.8.8"
  }
 },
 "nbformat": 4,
 "nbformat_minor": 5
}
