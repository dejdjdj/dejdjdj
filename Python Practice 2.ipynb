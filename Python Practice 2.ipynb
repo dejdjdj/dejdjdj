{
 "cells": [
  {
   "cell_type": "code",
   "execution_count": 2,
   "id": "d30802ba",
   "metadata": {},
   "outputs": [
    {
     "name": "stdout",
     "output_type": "stream",
     "text": [
      "B\n"
     ]
    }
   ],
   "source": [
    "number_grade = 85\n",
    "letter_grade = \"\"\n",
    "\n",
    "if 92 <= number_grade:\n",
    "    letter_grade = \"A\"\n",
    "elif 87 <= number_grade < 92:\n",
    "    letter_grade = \"B+\"\n",
    "elif 83 <= number_grade < 87:\n",
    "    letter_grade = \"B\"\n",
    "elif 79 <= number_grade < 83:\n",
    "    letter_grade = \"C+\"\n",
    "elif 75 <= number_grade < 79:\n",
    "    letter_grade = \"C\"\n",
    "elif 70 <= number_grade < 75:\n",
    "    letter_grade = \"D\"\n",
    "else:\n",
    "    letter_grade = \"F\"\n",
    "    \n",
    "print(letter_grade)"
   ]
  },
  {
   "cell_type": "code",
   "execution_count": 2,
   "id": "10dd9b79",
   "metadata": {},
   "outputs": [
    {
     "name": "stdout",
     "output_type": "stream",
     "text": [
      "Current counter: 1\n",
      "Current counter: 2\n",
      "Current counter: 3\n",
      "Current counter: 4\n",
      "Current counter: 5\n",
      "Current counter: 6\n",
      "Current counter: 7\n"
     ]
    }
   ],
   "source": [
    "counter = 1\n",
    "while counter <= 7:\n",
    "    print(f\"Current counter: {counter}\")\n",
    "    counter += 1\n",
    "    "
   ]
  },
  {
   "cell_type": "code",
   "execution_count": null,
   "id": "32a8867e",
   "metadata": {},
   "outputs": [],
   "source": [
    "# sum of even numbers below 100\n",
    "\n",
    "current_sum = 0\n",
    "counter = 1\n",
    "while counter < 100:\n",
    "    if counter % 2 != 0: \n",
    "        continue \n",
    "    current_sum += counter\n",
    "    counter += 1\n",
    "\n",
    "print(current_sum)"
   ]
  },
  {
   "cell_type": "code",
   "execution_count": 2,
   "id": "d214ef95",
   "metadata": {},
   "outputs": [
    {
     "name": "stdout",
     "output_type": "stream",
     "text": [
      "Guess the word, boboerasf\n",
      "TANGA GAGO!\n",
      "Guess the word, bobodaasjnd\n",
      "TANGA GAGO!\n",
      "Guess the word, bobodsaoinck\n",
      "TANGA GAGO!\n",
      "Guess the word, bobocxzonk\n",
      "TANGA GAGO!\n",
      "Guess the word, boboxczlnk\n",
      "TANGA GAGO!\n",
      "Guess the word, boboepep\n",
      "NADALE MO!\n"
     ]
    }
   ],
   "source": [
    "correct = \"epep\"\n",
    "while True:\n",
    "    user_input = input(\"Guess the word, bobo \")\n",
    "    if user_input == correct:\n",
    "        print(\"NADALE MO!\")\n",
    "        break \n",
    "    else:\n",
    "        print(\"TANGA GAGO!\")"
   ]
  },
  {
   "cell_type": "code",
   "execution_count": 1,
   "id": "0c028996",
   "metadata": {},
   "outputs": [
    {
     "name": "stdout",
     "output_type": "stream",
     "text": [
      "...\n"
     ]
    }
   ],
   "source": [
    "print(\"...\")"
   ]
  },
  {
   "cell_type": "code",
   "execution_count": 3,
   "id": "2e775edd",
   "metadata": {},
   "outputs": [
    {
     "name": "stdout",
     "output_type": "stream",
     "text": [
      "H\n",
      "e\n",
      "l\n",
      "l\n",
      "o\n",
      " \n",
      "W\n",
      "o\n",
      "r\n",
      "l\n",
      "d\n",
      "!\n"
     ]
    }
   ],
   "source": [
    "for character in \"Hello World!\":\n",
    "    print(character)"
   ]
  },
  {
   "cell_type": "code",
   "execution_count": 5,
   "id": "6c6ed439",
   "metadata": {
    "scrolled": true
   },
   "outputs": [
    {
     "name": "stdout",
     "output_type": "stream",
     "text": [
      "0\n",
      "1\n",
      "2\n",
      "3\n",
      "4\n",
      "5\n",
      "6\n",
      "7\n",
      "8\n",
      "9\n"
     ]
    }
   ],
   "source": [
    "for i in range(10):\n",
    "    print(i)"
   ]
  },
  {
   "cell_type": "code",
   "execution_count": 1,
   "id": "a871518f",
   "metadata": {},
   "outputs": [
    {
     "name": "stdout",
     "output_type": "stream",
     "text": [
      "5550\n"
     ]
    }
   ],
   "source": [
    "# start, stop, step\n",
    "# add even numbers 1-100\n",
    "\n",
    "current = 0\n",
    "for i in range(2, 150, 2):\n",
    "    current += i \n",
    "print(current)"
   ]
  },
  {
   "cell_type": "code",
   "execution_count": 2,
   "id": "c786af10",
   "metadata": {},
   "outputs": [
    {
     "name": "stdout",
     "output_type": "stream",
     "text": [
      "Shutdown in 10 seconds!\n",
      "Shutdown in 9 seconds!\n",
      "Shutdown in 8 seconds!\n",
      "Shutdown in 7 seconds!\n",
      "Shutdown in 6 seconds!\n",
      "Shutdown in 5 seconds!\n",
      "Shutdown in 4 seconds!\n",
      "Shutdown in 3 seconds!\n",
      "Shutdown in 2 seconds!\n",
      "Shutdown in 1 seconds!\n",
      "Shutdown in 0 seconds!\n"
     ]
    }
   ],
   "source": [
    "# countdown from 10\n",
    "\n",
    "for i in range (10, -1, -1):\n",
    "    print(f\"Shutdown in {i} seconds!\")\n"
   ]
  },
  {
   "cell_type": "code",
   "execution_count": 3,
   "id": "58b29747",
   "metadata": {},
   "outputs": [
    {
     "name": "stdout",
     "output_type": "stream",
     "text": [
      "a\n"
     ]
    }
   ],
   "source": [
    "my_string = \"Yahoo\"\n",
    "letter = my_string[1]\n",
    "\n",
    "print(letter)"
   ]
  },
  {
   "cell_type": "code",
   "execution_count": 7,
   "id": "3a0f5126",
   "metadata": {},
   "outputs": [
    {
     "name": "stdout",
     "output_type": "stream",
     "text": [
      "Hello\n"
     ]
    }
   ],
   "source": [
    "string = \"Hello World!\"\n",
    "substring = string[0:5]\n",
    "\n",
    "print(substring)"
   ]
  },
  {
   "cell_type": "code",
   "execution_count": 4,
   "id": "3db98a0d",
   "metadata": {},
   "outputs": [
    {
     "name": "stdout",
     "output_type": "stream",
     "text": [
      "!dlroW\n"
     ]
    }
   ],
   "source": [
    "string = \"Hello World!\"\n",
    "substring = string[:-7:-1]\n",
    "\n",
    "print(substring)"
   ]
  },
  {
   "cell_type": "code",
   "execution_count": 4,
   "id": "a0381803",
   "metadata": {},
   "outputs": [
    {
     "name": "stdout",
     "output_type": "stream",
     "text": [
      "Y G\n",
      "a m\n",
      "h a\n",
      "o i\n",
      "o l\n"
     ]
    }
   ],
   "source": [
    "#zip\n",
    "\n",
    "word1 = \"Yahoo\"\n",
    "word2 = \"Gmail\"\n",
    "\n",
    "for letter1, letter2 in zip(word1, word2):\n",
    "    print(letter1, letter2)"
   ]
  },
  {
   "cell_type": "code",
   "execution_count": 5,
   "id": "cf6ca648",
   "metadata": {},
   "outputs": [
    {
     "name": "stdout",
     "output_type": "stream",
     "text": [
      "0 H\n",
      "1 e\n",
      "2 l\n",
      "3 l\n",
      "4 o\n"
     ]
    }
   ],
   "source": [
    "#enumerate\n",
    "\n",
    "word = \"Hello\"\n",
    "\n",
    "for i, element in enumerate(word):\n",
    "    print(i, element)"
   ]
  },
  {
   "cell_type": "code",
   "execution_count": 19,
   "id": "d5416926",
   "metadata": {},
   "outputs": [
    {
     "name": "stdout",
     "output_type": "stream",
     "text": [
      "34\n"
     ]
    }
   ],
   "source": [
    "# Returns the length of the string (or iterable in general) passed to it.\n",
    "\n",
    "string = \"This string is 34 characters long.\"\n",
    "print(len(string))"
   ]
  },
  {
   "cell_type": "code",
   "execution_count": 25,
   "id": "22333fcd",
   "metadata": {},
   "outputs": [
    {
     "name": "stdout",
     "output_type": "stream",
     "text": [
      "3\n"
     ]
    }
   ],
   "source": [
    "# .count(search_text, [start position, end position])\n",
    "# counts the occurrences of search_text within the string. Limit the search scope by specifying positions.\n",
    "\n",
    "string = \"I will say this word thrice: Oorah, Oorah, Oorah\"\n",
    "print(string.count(\"Oorah\"))"
   ]
  },
  {
   "cell_type": "code",
   "execution_count": 32,
   "id": "1ceb4743",
   "metadata": {},
   "outputs": [
    {
     "name": "stdout",
     "output_type": "stream",
     "text": [
      "5\n",
      "-1\n"
     ]
    }
   ],
   "source": [
    "string = \"Play League!\"\n",
    "print(string.find (\"League\"))\n",
    "print(string.find(\"Dota\"))"
   ]
  },
  {
   "cell_type": "code",
   "execution_count": 37,
   "id": "965f6ca7",
   "metadata": {},
   "outputs": [
    {
     "name": "stdout",
     "output_type": "stream",
     "text": [
      "Play Dota!\n"
     ]
    }
   ],
   "source": [
    "# .replace(search_text, replace_text [, counter])\n",
    "# Replaces instances of search_text with replace_text.\n",
    "# Limit replacements with counter.\n",
    "\n",
    "string = \"Play League!\"\n",
    "print(string.replace(\"League\", \"Dota\"))"
   ]
  },
  {
   "cell_type": "code",
   "execution_count": 38,
   "id": "785edf2c",
   "metadata": {},
   "outputs": [
    {
     "name": "stdout",
     "output_type": "stream",
     "text": [
      "1, 2, 3, 4, 5, 6, 7, 8, 9\n"
     ]
    }
   ],
   "source": [
    "# .join(iterable)\n",
    "# Creates a string consisting of the members of the iterable separated by the string on which .join() is called.\n",
    "# This won't work with ranges. Ignore those for now.\n",
    "\n",
    "string = \"123456789\"\n",
    "print(\", \".join(string))"
   ]
  },
  {
   "cell_type": "code",
   "execution_count": 43,
   "id": "88e78122",
   "metadata": {},
   "outputs": [
    {
     "name": "stdout",
     "output_type": "stream",
     "text": [
      "wasted space\n"
     ]
    }
   ],
   "source": [
    "# .strip()\n",
    "# Removes excess whitespace at the ends of the string.\n",
    "\n",
    "string = \"     wasted space     \"\n",
    "print(string.strip())"
   ]
  },
  {
   "cell_type": "code",
   "execution_count": 1,
   "id": "290e542e",
   "metadata": {},
   "outputs": [
    {
     "name": "stdout",
     "output_type": "stream",
     "text": [
      "Bobo ako!\n"
     ]
    }
   ],
   "source": [
    "# .capitalize()\n",
    "# Capitalizes the first letter of a string and converts the rest of the letters to lowercase.\n",
    "\n",
    "string = \"bObO aKO!\"\n",
    "print(string.capitalize())"
   ]
  },
  {
   "cell_type": "code",
   "execution_count": 3,
   "id": "4e1d882d",
   "metadata": {},
   "outputs": [
    {
     "name": "stdout",
     "output_type": "stream",
     "text": [
      "1\n",
      "2\n",
      "Fizz\n",
      "4\n",
      "Buzz\n",
      "Fizz\n",
      "7\n",
      "8\n",
      "Fizz\n",
      "Buzz\n",
      "11\n",
      "Fizz\n",
      "13\n",
      "14\n",
      "FizzBuzz\n",
      "16\n",
      "17\n",
      "Fizz\n",
      "19\n",
      "Buzz\n"
     ]
    }
   ],
   "source": [
    "\n",
    "counter = 1\n",
    "while counter <= 20:\n",
    "    if counter % 3 == 0 and counter % 5 == 0:\n",
    "        print(\"FizzBuzz\")\n",
    "    elif counter % 3 == 0:\n",
    "        print(\"Fizz\")\n",
    "    elif counter % 5 == 0:\n",
    "        print(\"Buzz\")\n",
    "    else:\n",
    "        print(counter)\n",
    "        \n",
    "    counter += 1\n",
    "\n"
   ]
  },
  {
   "cell_type": "code",
   "execution_count": 2,
   "id": "8f2156b8",
   "metadata": {},
   "outputs": [
    {
     "name": "stdout",
     "output_type": "stream",
     "text": [
      "Yeah!\n"
     ]
    }
   ],
   "source": [
    "print(\"Yeah!\")"
   ]
  },
  {
   "cell_type": "code",
   "execution_count": null,
   "id": "bdceea22",
   "metadata": {},
   "outputs": [],
   "source": []
  }
 ],
 "metadata": {
  "kernelspec": {
   "display_name": "Python 3",
   "language": "python",
   "name": "python3"
  },
  "language_info": {
   "codemirror_mode": {
    "name": "ipython",
    "version": 3
   },
   "file_extension": ".py",
   "mimetype": "text/x-python",
   "name": "python",
   "nbconvert_exporter": "python",
   "pygments_lexer": "ipython3",
   "version": "3.8.8"
  }
 },
 "nbformat": 4,
 "nbformat_minor": 5
}
