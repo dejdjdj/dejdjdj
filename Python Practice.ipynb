{
 "cells": [
  {
   "cell_type": "code",
   "execution_count": 1,
   "id": "db26cfe7",
   "metadata": {},
   "outputs": [
    {
     "name": "stdout",
     "output_type": "stream",
     "text": [
      "Hello World!\n"
     ]
    }
   ],
   "source": [
    "print(\"Hello World!\")"
   ]
  },
  {
   "cell_type": "code",
   "execution_count": 2,
   "id": "066ee9c5",
   "metadata": {},
   "outputs": [
    {
     "name": "stdout",
     "output_type": "stream",
     "text": [
      "Enter your nameRaph\n"
     ]
    }
   ],
   "source": [
    "user_name = input(\"Enter your name\")"
   ]
  },
  {
   "cell_type": "code",
   "execution_count": 3,
   "id": "449f7a4b",
   "metadata": {},
   "outputs": [
    {
     "ename": "SyntaxError",
     "evalue": "cannot assign to operator (<ipython-input-3-59937db33d80>, line 1)",
     "output_type": "error",
     "traceback": [
      "\u001b[1;36m  File \u001b[1;32m\"<ipython-input-3-59937db33d80>\"\u001b[1;36m, line \u001b[1;32m1\u001b[0m\n\u001b[1;33m    user-name = input(\"Name?\")\u001b[0m\n\u001b[1;37m    ^\u001b[0m\n\u001b[1;31mSyntaxError\u001b[0m\u001b[1;31m:\u001b[0m cannot assign to operator\n"
     ]
    }
   ],
   "source": [
    "user-name = input(\"Name?\")"
   ]
  },
  {
   "cell_type": "code",
   "execution_count": 4,
   "id": "3262157f",
   "metadata": {},
   "outputs": [
    {
     "name": "stdout",
     "output_type": "stream",
     "text": [
      "Name?Raph \n"
     ]
    }
   ],
   "source": [
    "user_name = input(\"Name?\")"
   ]
  },
  {
   "cell_type": "code",
   "execution_count": 7,
   "id": "a9eae420",
   "metadata": {},
   "outputs": [],
   "source": [
    "my_age = 21\n",
    "my_format_string = f\"My age is: {my_age}.\""
   ]
  },
  {
   "cell_type": "code",
   "execution_count": 15,
   "id": "a373d443",
   "metadata": {},
   "outputs": [
    {
     "name": "stdout",
     "output_type": "stream",
     "text": [
      "My age is:21.\n"
     ]
    }
   ],
   "source": [
    "my_age = 21\n",
    "my_format_string = f\"My age is:{my_age}.\"\n",
    "print(my_format_string)"
   ]
  },
  {
   "cell_type": "code",
   "execution_count": 1,
   "id": "5271de69",
   "metadata": {},
   "outputs": [
    {
     "name": "stdout",
     "output_type": "stream",
     "text": [
      "Hello\n"
     ]
    }
   ],
   "source": [
    "print(\"Hello\")"
   ]
  },
  {
   "cell_type": "code",
   "execution_count": 8,
   "id": "5674a091",
   "metadata": {},
   "outputs": [
    {
     "name": "stdout",
     "output_type": "stream",
     "text": [
      "HelloHelloHello\n"
     ]
    }
   ],
   "source": [
    "my_string = \"Hello\" * 3\n",
    "print (my_string)"
   ]
  },
  {
   "cell_type": "code",
   "execution_count": 3,
   "id": "d1cee71b",
   "metadata": {},
   "outputs": [
    {
     "name": "stdout",
     "output_type": "stream",
     "text": [
      "Hello, Gab!\n"
     ]
    }
   ],
   "source": [
    "def say_name(person_name):\n",
    "    greeting = \"Hello, \" + person_name + \"!\"\n",
    "    print(greeting)\n",
    "    \n",
    "say_name(\"Gab\")"
   ]
  },
  {
   "cell_type": "code",
   "execution_count": 7,
   "id": "74652dfa",
   "metadata": {},
   "outputs": [
    {
     "name": "stdout",
     "output_type": "stream",
     "text": [
      "Hello!\n"
     ]
    }
   ],
   "source": [
    "def say_hello():\n",
    "    print(\"Hello!\")\n",
    "    \n",
    "say_hello()\n"
   ]
  },
  {
   "cell_type": "code",
   "execution_count": 1,
   "id": "0c1e8d3f",
   "metadata": {},
   "outputs": [
    {
     "name": "stdout",
     "output_type": "stream",
     "text": [
      "Hello\n"
     ]
    }
   ],
   "source": [
    "print(\"Hello\")"
   ]
  },
  {
   "cell_type": "code",
   "execution_count": 12,
   "id": "b0abb619",
   "metadata": {},
   "outputs": [
    {
     "name": "stdout",
     "output_type": "stream",
     "text": [
      "this just prints something\n"
     ]
    }
   ],
   "source": [
    "def no_return_value():\n",
    "    print(\"this just prints something\")\n",
    "     \n",
    "x = no_return_value()\n",
    "\n",
    "\n"
   ]
  },
  {
   "cell_type": "code",
   "execution_count": 5,
   "id": "89538c2b",
   "metadata": {},
   "outputs": [
    {
     "name": "stdout",
     "output_type": "stream",
     "text": [
      "5\n"
     ]
    }
   ],
   "source": [
    "def with_return_value():\n",
    "    return 5\n",
    "\n",
    "x = with_return_value()\n",
    "print(with_return_value())\n"
   ]
  },
  {
   "cell_type": "code",
   "execution_count": 7,
   "id": "4c48d7cd",
   "metadata": {},
   "outputs": [
    {
     "name": "stdout",
     "output_type": "stream",
     "text": [
      "20.555555555555557\n"
     ]
    }
   ],
   "source": [
    "def f_to_c(x):\n",
    "    temp_c = (x - 32) * 5/9\n",
    "    return temp_c\n",
    "\n",
    "temp_f = 69\n",
    "current_temp_c = f_to_c(temp_f)\n",
    "\n",
    "print(current_temp_c)"
   ]
  },
  {
   "cell_type": "code",
   "execution_count": 5,
   "id": "e1f31d6c",
   "metadata": {},
   "outputs": [
    {
     "name": "stdout",
     "output_type": "stream",
     "text": [
      "1 2\n"
     ]
    }
   ],
   "source": [
    "def funcA(a, b):\n",
    "    print(\"{} {}\".format(a, b))\n",
    "    \n",
    "funcA(1, 2)"
   ]
  },
  {
   "cell_type": "code",
   "execution_count": 12,
   "id": "01c3cae7",
   "metadata": {},
   "outputs": [
    {
     "name": "stdout",
     "output_type": "stream",
     "text": [
      "64\n"
     ]
    }
   ],
   "source": [
    "def cube(x):\n",
    "    return x*x*x\n",
    "    \n",
    "result = cube(4)\n",
    "print(result)"
   ]
  },
  {
   "cell_type": "code",
   "execution_count": 10,
   "id": "0bc1c9e9",
   "metadata": {},
   "outputs": [
    {
     "name": "stdout",
     "output_type": "stream",
     "text": [
      "1.6510000000000002\n"
     ]
    }
   ],
   "source": [
    "def feet_to_meters(feet, inches):\n",
    "    CONV = 0.3048\n",
    "    foot_fraction = inches / 12\n",
    "    foot_length = feet + foot_fraction\n",
    "    meters = foot_length * CONV\n",
    "    return meters\n",
    "\n",
    "result = feet_to_meters(5, 5)\n",
    "print(result)"
   ]
  },
  {
   "cell_type": "code",
   "execution_count": 14,
   "id": "68eb02db",
   "metadata": {},
   "outputs": [
    {
     "name": "stdout",
     "output_type": "stream",
     "text": [
      "With Discount: 70.0\n"
     ]
    }
   ],
   "source": [
    "def compute_quote(price, discount):\n",
    "    return price*(1-discount)\n",
    "\n",
    "print(\"With Discount: {}\".format(compute_quote(100, .3)))"
   ]
  },
  {
   "cell_type": "code",
   "execution_count": 4,
   "id": "b4194a32",
   "metadata": {},
   "outputs": [
    {
     "name": "stdout",
     "output_type": "stream",
     "text": [
      "1\n",
      "2\n",
      "3\n",
      "4\n",
      "5\n"
     ]
    }
   ],
   "source": [
    "def arbitrary_parameter_demo(*x):\n",
    "    for y in x:\n",
    "        print(y)\n",
    "    \n",
    "arbitrary_parameter_demo(1,2,3,4,5)"
   ]
  },
  {
   "cell_type": "code",
   "execution_count": 2,
   "id": "a0723a24",
   "metadata": {},
   "outputs": [
    {
     "name": "stdout",
     "output_type": "stream",
     "text": [
      "Hello\n",
      "World\n"
     ]
    }
   ],
   "source": [
    "def arbitrary_parameter_demo(*x):\n",
    "    for y in x:\n",
    "        print(y)\n",
    "\n",
    "# param_list = [1,2,3,4,5,6,7,8,9]\n",
    "# param_list = range(0,10)\n",
    "param_list = \"Hello World\".split()\n",
    "arbitrary_parameter_demo(*param_list)"
   ]
  },
  {
   "cell_type": "code",
   "execution_count": 6,
   "id": "4e5574f6",
   "metadata": {},
   "outputs": [
    {
     "name": "stdout",
     "output_type": "stream",
     "text": [
      "Hi,\n",
      "guys!\n",
      "----\n",
      "Yee\n",
      "Haw\n",
      "----\n",
      "cock\n",
      "tits\n"
     ]
    }
   ],
   "source": [
    "def double_star_demo(first, second):\n",
    "    print(first)\n",
    "    print(second)\n",
    "    \n",
    "double_star_demo(\"Hi,\",\"guys!\")\n",
    "\n",
    "print(\"----\")\n",
    "\n",
    "double_star_demo(first = \"Yee\", second = \"Haw\")\n",
    "\n",
    "print(\"----\")\n",
    "\n",
    "param_dict = {\"first\":\"cock\", \"second\":\"tits\"}\n",
    "double_star_demo(**param_dict)"
   ]
  },
  {
   "cell_type": "code",
   "execution_count": 22,
   "id": "b499b8f8",
   "metadata": {},
   "outputs": [
    {
     "name": "stdout",
     "output_type": "stream",
     "text": [
      "16\n"
     ]
    }
   ],
   "source": [
    "y = lambda x: x**2\n",
    "print(y(4))"
   ]
  },
  {
   "cell_type": "code",
   "execution_count": 1,
   "id": "9702c7c5",
   "metadata": {},
   "outputs": [
    {
     "ename": "NameError",
     "evalue": "name 'x' is not defined",
     "output_type": "error",
     "traceback": [
      "\u001b[1;31m---------------------------------------------------------------------------\u001b[0m",
      "\u001b[1;31mNameError\u001b[0m                                 Traceback (most recent call last)",
      "\u001b[1;32m<ipython-input-1-45a7499a5032>\u001b[0m in \u001b[0;36m<module>\u001b[1;34m\u001b[0m\n\u001b[0;32m      1\u001b[0m \u001b[0mmobile\u001b[0m \u001b[1;33m=\u001b[0m \u001b[1;34m\"09778029498\"\u001b[0m\u001b[1;33m\u001b[0m\u001b[1;33m\u001b[0m\u001b[0m\n\u001b[0;32m      2\u001b[0m \u001b[1;33m\u001b[0m\u001b[0m\n\u001b[1;32m----> 3\u001b[1;33m \u001b[0my\u001b[0m \u001b[1;33m=\u001b[0m \u001b[0mx\u001b[0m \u001b[1;33m[\u001b[0m\u001b[1;36m0\u001b[0m\u001b[1;33m:\u001b[0m\u001b[1;36m4\u001b[0m\u001b[1;33m]\u001b[0m\u001b[1;33m\u001b[0m\u001b[1;33m\u001b[0m\u001b[0m\n\u001b[0m\u001b[0;32m      4\u001b[0m \u001b[0mprint\u001b[0m\u001b[1;33m(\u001b[0m\u001b[0my\u001b[0m\u001b[1;33m(\u001b[0m\u001b[0mmobile\u001b[0m\u001b[1;33m)\u001b[0m\u001b[1;33m)\u001b[0m\u001b[1;33m\u001b[0m\u001b[1;33m\u001b[0m\u001b[0m\n",
      "\u001b[1;31mNameError\u001b[0m: name 'x' is not defined"
     ]
    }
   ],
   "source": [
    "mobile = \"09778029498\"\n",
    "\n",
    "y = x [0:4]\n",
    "print(y(mobile))"
   ]
  },
  {
   "cell_type": "code",
   "execution_count": 12,
   "id": "54d5822f",
   "metadata": {},
   "outputs": [
    {
     "name": "stdout",
     "output_type": "stream",
     "text": [
      "1 2\n"
     ]
    }
   ],
   "source": [
    "def func1(a,b):\n",
    "    print(\"{} {}\".format (a,b))\n",
    "    \n",
    "func1(1,2)"
   ]
  },
  {
   "cell_type": "code",
   "execution_count": 7,
   "id": "91a1e7e5",
   "metadata": {},
   "outputs": [
    {
     "name": "stdout",
     "output_type": "stream",
     "text": [
      "1.524\n"
     ]
    }
   ],
   "source": [
    "def feet_to_meters(feet = 5, inches = 0):\n",
    "    CONV = 0.3048\n",
    "    fraction_of_foot = inches / 12\n",
    "    length_in_feet = feet + fraction_of_foot\n",
    "    meters = length_in_feet * CONV\n",
    "    return meters\n",
    "\n",
    "result = feet_to_meters ()\n",
    "print(result)"
   ]
  },
  {
   "cell_type": "code",
   "execution_count": 18,
   "id": "3ee920de",
   "metadata": {},
   "outputs": [
    {
     "name": "stdout",
     "output_type": "stream",
     "text": [
      "Without Discount: 100\n",
      "With Discount: 80.0\n"
     ]
    }
   ],
   "source": [
    "def compute_discount(price, discount = 0):\n",
    "    return price*(1-discount)\n",
    "\n",
    "print(\"Without Discount: {}\".format(compute_discount(100)))\n",
    "print(\"With Discount: {}\".format(compute_discount(100, .20)))"
   ]
  },
  {
   "cell_type": "code",
   "execution_count": 28,
   "id": "b2ee10da",
   "metadata": {},
   "outputs": [
    {
     "name": "stdout",
     "output_type": "stream",
     "text": [
      "Hello\n",
      "World\n"
     ]
    }
   ],
   "source": [
    "def arbitrary(*x):\n",
    "    for y in x:\n",
    "        print(y)\n",
    "\n",
    "# param_list = [1, 2, 3, 4, 5]\n",
    "# param_list = range(0,10)\n",
    "param_list = \"Hello World\".split()\n",
    "arbitrary (*param_list)"
   ]
  },
  {
   "cell_type": "code",
   "execution_count": 45,
   "id": "6fcfa02d",
   "metadata": {},
   "outputs": [
    {
     "name": "stdout",
     "output_type": "stream",
     "text": [
      "val1\n",
      "val2\n",
      "-----\n",
      "val1\n",
      "val2\n",
      "-----\n",
      "valA\n",
      "valB\n"
     ]
    }
   ],
   "source": [
    "def double(first, second):\n",
    "    print(first)\n",
    "    print(second)\n",
    "    \n",
    "double(\"val1\", \"val2\")\n",
    "print(\"-----\")\n",
    "\n",
    "double(first=\"val1\", second=\"val2\")\n",
    "print(\"-----\")\n",
    "\n",
    "param = {\"first\":\"valA\", \"second\":\"valB\"}\n",
    "double(**param)\n"
   ]
  },
  {
   "cell_type": "code",
   "execution_count": 46,
   "id": "80e4efee",
   "metadata": {},
   "outputs": [
    {
     "name": "stdout",
     "output_type": "stream",
     "text": [
      "4\n"
     ]
    }
   ],
   "source": [
    "y = lambda x: x**2\n",
    "print(y(2))"
   ]
  },
  {
   "cell_type": "code",
   "execution_count": 49,
   "id": "ce90065d",
   "metadata": {},
   "outputs": [
    {
     "name": "stdout",
     "output_type": "stream",
     "text": [
      "0977\n"
     ]
    }
   ],
   "source": [
    "mobile = \"09778029498\"\n",
    "\n",
    "y = lambda x: x[0:4]\n",
    "print(y(mobile))"
   ]
  },
  {
   "cell_type": "code",
   "execution_count": null,
   "id": "93b4e7ae",
   "metadata": {},
   "outputs": [],
   "source": []
  }
 ],
 "metadata": {
  "kernelspec": {
   "display_name": "Python 3",
   "language": "python",
   "name": "python3"
  },
  "language_info": {
   "codemirror_mode": {
    "name": "ipython",
    "version": 3
   },
   "file_extension": ".py",
   "mimetype": "text/x-python",
   "name": "python",
   "nbconvert_exporter": "python",
   "pygments_lexer": "ipython3",
   "version": "3.8.8"
  }
 },
 "nbformat": 4,
 "nbformat_minor": 5
}
