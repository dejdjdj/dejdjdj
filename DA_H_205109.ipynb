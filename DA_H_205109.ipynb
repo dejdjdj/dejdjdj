{
 "cells": [
  {
   "cell_type": "markdown",
   "id": "d14ae153",
   "metadata": {},
   "source": [
    "### PROBLEM 1"
   ]
  },
  {
   "cell_type": "code",
   "execution_count": null,
   "id": "704fe243",
   "metadata": {},
   "outputs": [],
   "source": [
    "Positive, Negative, Zero = 0, 0, 0\n",
    "\n",
    "\n",
    "while True:\n",
    "    number = input(\"Input the the number: \")\n",
    "    \n",
    "\n",
    "    if number == \"a\":\n",
    "        break\n",
    "    elif number > \"0\":\n",
    "        Positive += 1\n",
    "    elif number < \"0\":\n",
    "        Negative += 1\n",
    "    elif number == \"0\":\n",
    "        Zero += 1\n",
    "    else:\n",
    "        print(\"Invalid Input\")\n",
    "        \n",
    "print(f\"Positive: {Positive}\")\n",
    "print(f\"Negative: {Negative}\")\n",
    "print(f\"Zero: {Zero}\")\n",
    "    "
   ]
  },
  {
   "cell_type": "markdown",
   "id": "2c71fe90",
   "metadata": {},
   "source": [
    "### PROBLEM 2"
   ]
  },
  {
   "cell_type": "code",
   "execution_count": null,
   "id": "3732a698",
   "metadata": {},
   "outputs": [],
   "source": [
    "amount = int(input(\"Enter Amount of Coffee in grams: \"))\n",
    "style = input(\"Do you want you your coffee sweet or acidic? (type sweet or acidic): \")\n",
    "strength = input(\"Do you want your coffee strong? (Y or N): \")\n",
    "\n",
    "\n",
    "def problem_2(amount, style, strength):\n",
    "    \n",
    "    water = amount * 15\n",
    "\n",
    "    first_part = water * .4\n",
    "    second_part = water - first_part\n",
    "    \n",
    "    pour1, pour2, pour3, pour4, pour5, pour6 = 0, 0, 0, 0, 0, 0\n",
    "    \n",
    "  \n",
    "    if style == \"sweet\":\n",
    "        pour1 = first_part * .4\n",
    "        pour2 = first_part - pour1\n",
    "        x = 0\n",
    "    elif style == \"acidic\":\n",
    "        pour1 = first_part * .6\n",
    "        pour2 = first_part - pour1\n",
    "    else:\n",
    "        print(\"Invalid Input. Try Again\")\n",
    "        \n",
    "    \n",
    "            \n",
    "    \n",
    "    if strength == \"Y\" or strength == \"y\":\n",
    "        pour3 = pour4 = pour5 = pour6 = second_part / 4\n",
    "    elif strength == \"N\" or strength == \"n\":\n",
    "        pour3 = pour4 = second_part / 2\n",
    "    \n",
    "    return(f\"Water Pour Plan: \\nFirst Part ({first_part})g: \\nPour #1: {pour1} grams \\nPour #2: {pour2} grams \\nSecond Part ({second_part})g: \\nPour #3: {pour3} grams \\nPour #4: {pour4} grams \\nPour #5: {pour5} grams \\nPour #6: {pour6} grams \\nTotal Water: {water}g\")\n",
    "    \n",
    "print(problem_2(amount, style, strength))\n",
    "\n",
    "    \n"
   ]
  },
  {
   "cell_type": "markdown",
   "id": "f808ea77",
   "metadata": {},
   "source": [
    "### PROBLEM 3"
   ]
  },
  {
   "cell_type": "code",
   "execution_count": null,
   "id": "f02bb723",
   "metadata": {},
   "outputs": [],
   "source": [
    "\n",
    "print(\"Welcome! Here is our Menu: \\n\\n   Chicken Burger: Php 60 \\n\\n   Sisig Burrito: Php 70 \\n\\n   Beef Kebab Bowl: Php 80 \\n\\n   Calamansi Juice: Php 20\")\n",
    "\n",
    "\n",
    "\n",
    "def problem_3():\n",
    "    counter = 0\n",
    "    amount = 0\n",
    "    \n",
    "    # max order is 5\n",
    "    while counter < 5:\n",
    "        order = input(\"What will you have? \")\n",
    "        if order == \"Chicken Burger\":\n",
    "            amount += 60\n",
    "            counter += 1\n",
    "            print(f\"That's {amount} so far.\")\n",
    "        elif order == \"Sisig Burrito\":\n",
    "            amount += 70\n",
    "            counter += 1\n",
    "            print(f\"That's {amount} so far.\")\n",
    "        elif order == \"Beef Kebab Bowl\":\n",
    "            amount += 80\n",
    "            counter += 1\n",
    "            print(f\"That's {amount} so far.\")\n",
    "        elif order == \"Calamansi Juice\":\n",
    "            amount += 20\n",
    "            counter += 1\n",
    "            print(f\"That's {amount} so far.\")\n",
    "        elif order == \"/checkout\":\n",
    "            print(f\"That's {amount} so far.\")   \n",
    "            break\n",
    "        else:\n",
    "            print(\"Oops, that's not on our menu!\")\n",
    "   \n",
    "    print(f\"That will be a total of Php {amount}\")\n",
    "    \n",
    "    payment = int(input(\"How much cash will you pay? \"))\n",
    "    if payment > amount:\n",
    "        change = payment - amount\n",
    "        print(f\"Thank you for your payment. Your change is {change} Php. Enjoy your order!\")\n",
    "    elif payment == amount:\n",
    "        print(f\"Thank you for giving the exact amount. Enjoy your order!\")\n",
    "    else:\n",
    "        print(\"Insufficient payment. Transaction could not be completed.\")\n",
    "    \n",
    "    \n",
    "problem_3()"
   ]
  },
  {
   "cell_type": "markdown",
   "id": "f49e54b9",
   "metadata": {},
   "source": [
    "### PROBLEM 4"
   ]
  },
  {
   "cell_type": "code",
   "execution_count": null,
   "id": "ef8f90b9",
   "metadata": {},
   "outputs": [],
   "source": [
    "square = int(input(\"Input: \"))\n",
    "\n",
    "def problem_4(square):\n",
    "    \n",
    "    for i in range(1, square * 2):\n",
    "        # for 1 run in i you run j 5 times\n",
    "        for j in range(1, square * 2):\n",
    "            if 1 < i < square < j < ((square * 2) -1):\n",
    "                print(\"\", end = \"\\t\")\n",
    "            elif 1 < j < square < i < (square * 2)-1:\n",
    "                print(\"\", end = \"\\t\")\n",
    "            else:\n",
    "                print(\"*\", end = \"\\t\")\n",
    "        print(\"\\n\")\n",
    "\n",
    "problem_4(square)"
   ]
  },
  {
   "cell_type": "markdown",
   "id": "73795c47",
   "metadata": {},
   "source": [
    "### PROBLEM 5"
   ]
  },
  {
   "cell_type": "code",
   "execution_count": null,
   "id": "7c06bbdb",
   "metadata": {},
   "outputs": [],
   "source": [
    "money = 15000 \n",
    "dishes = 50\n",
    "\n",
    "profit = (Price_Fish + Price_Chicken + Price_Jade) - (Cost_Fish + Cost_Chicken + Cost_Jade) \n",
    "\n",
    "Cost_Cart = 1500\n",
    "\n",
    "Cost_Fish = 100\n",
    "Price_Fish = 175\n",
    "# fish made in twos\n",
    "Number_Fish % 2 = 0\n",
    "Number_Fish >= 5\n",
    "\n",
    "Cost_Chicken = 150\n",
    "Price_Chicken = 250\n",
    "# chicken made in threes\n",
    "Number_Chicken % 3 = 0\n",
    "Number_Chicken >= 5\n",
    "\n",
    "Cost_Jade = 350\n",
    "Price_Jade = 600\n",
    "# jade can't be more than 25\n",
    "25 >= Number_Jade >= 5\n",
    "\n",
    "\n",
    "while money > 0:\n",
    "    # spend it while maximizing profit\n",
    "    \n",
    "    \n",
    "    \n",
    "    "
   ]
  }
 ],
 "metadata": {
  "kernelspec": {
   "display_name": "Python 3",
   "language": "python",
   "name": "python3"
  },
  "language_info": {
   "codemirror_mode": {
    "name": "ipython",
    "version": 3
   },
   "file_extension": ".py",
   "mimetype": "text/x-python",
   "name": "python",
   "nbconvert_exporter": "python",
   "pygments_lexer": "ipython3",
   "version": "3.8.8"
  }
 },
 "nbformat": 4,
 "nbformat_minor": 5
}
