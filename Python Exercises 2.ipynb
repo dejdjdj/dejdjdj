{
 "cells": [
  {
   "cell_type": "markdown",
   "id": "29266e22",
   "metadata": {},
   "source": [
    "### Caesar Cipher"
   ]
  },
  {
   "cell_type": "code",
   "execution_count": 1,
   "id": "32aef527",
   "metadata": {},
   "outputs": [
    {
     "name": "stdout",
     "output_type": "stream",
     "text": [
      "What do you wish to cipher? MARCO ISANG TANGA\n",
      "How many units do you want to shift the message? 17\n",
      "DRITF ZJREX KREXR\n"
     ]
    }
   ],
   "source": [
    "message = input(\"What do you wish to cipher? \")\n",
    "shift = int(input(\"How many units do you want to shift the message? \"))\n",
    "\n",
    "\n",
    "def problem_1(message, shift):\n",
    "    new_message = \"\"\n",
    "    \n",
    "    # checks each letter in message\n",
    "    for i in message: \n",
    "        # makes it so that the free spaces in the message stays that way\n",
    "        if i == \" \":\n",
    "            new_message += \" \"\n",
    "        else:\n",
    "            # turns each letter to unicode\n",
    "            unicode = ord(i)\n",
    "            # shifts the unicode\n",
    "            new_uni = (unicode + shift)\n",
    "            # if it exceeds Z it should go back to A\n",
    "            if new_uni > 90:\n",
    "                new_uni -= 26\n",
    "            # turns back the shifted unicode into a character\n",
    "            new_letter = chr(new_uni)\n",
    "            # so that the output isn't just 1 letter\n",
    "            new_message += new_letter\n",
    "    \n",
    "    # the problem is that if the shift exceeds Z, it returns a character that isn't in the alphabet \n",
    "    # because after Z are the special characters\n",
    "    \n",
    "    # unicode of A is 65\n",
    "    # unicode of Z is 90\n",
    "    \n",
    "    # if the unicode gets shifted\n",
    "   \n",
    "        \n",
    "\n",
    "    return new_message\n",
    "            \n",
    "\n",
    "print(problem_1(message, shift))"
   ]
  },
  {
   "cell_type": "markdown",
   "id": "3cd54e39",
   "metadata": {},
   "source": [
    "### Scytale Cipher"
   ]
  },
  {
   "cell_type": "code",
   "execution_count": 15,
   "id": "9934cc52",
   "metadata": {},
   "outputs": [
    {
     "ename": "IndentationError",
     "evalue": "expected an indented block (<ipython-input-15-b94c7bc47a92>, line 7)",
     "output_type": "error",
     "traceback": [
      "\u001b[1;36m  File \u001b[1;32m\"<ipython-input-15-b94c7bc47a92>\"\u001b[1;36m, line \u001b[1;32m7\u001b[0m\n\u001b[1;33m    print(problem_2(message, shift))\u001b[0m\n\u001b[1;37m    ^\u001b[0m\n\u001b[1;31mIndentationError\u001b[0m\u001b[1;31m:\u001b[0m expected an indented block\n"
     ]
    }
   ],
   "source": [
    "message = input(\"What do you wish to cipher? \")\n",
    "shift = int(input(\"How many units do you want to shift the message? \"))\n",
    "\n",
    "def problem_2(message, shift):\n",
    "    \n",
    "\n",
    "\n",
    "    \n",
    "print(problem_2(message, shift))"
   ]
  },
  {
   "cell_type": "code",
   "execution_count": null,
   "id": "4ed4c664",
   "metadata": {},
   "outputs": [],
   "source": []
  }
 ],
 "metadata": {
  "kernelspec": {
   "display_name": "Python 3",
   "language": "python",
   "name": "python3"
  },
  "language_info": {
   "codemirror_mode": {
    "name": "ipython",
    "version": 3
   },
   "file_extension": ".py",
   "mimetype": "text/x-python",
   "name": "python",
   "nbconvert_exporter": "python",
   "pygments_lexer": "ipython3",
   "version": "3.8.8"
  }
 },
 "nbformat": 4,
 "nbformat_minor": 5
}
