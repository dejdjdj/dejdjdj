{
 "cells": [
  {
   "cell_type": "markdown",
   "id": "c3cd19b3",
   "metadata": {},
   "source": [
    "### Problem 1\n"
   ]
  },
  {
   "cell_type": "code",
   "execution_count": 2,
   "id": "e3eda855",
   "metadata": {},
   "outputs": [
    {
     "name": "stdout",
     "output_type": "stream",
     "text": [
      "Choose a number to get the factorial of: 4\n",
      "24\n"
     ]
    }
   ],
   "source": [
    "# Problem 1\n",
    "\n",
    "number = int(input(\"Choose a number to get the factorial of: \"))\n",
    "\n",
    "def problem_1(x):\n",
    "    y = 1\n",
    "    for i in range(1, x+1):\n",
    "        y = y*i\n",
    "    return y\n",
    "   \n",
    "result = problem_1(number)\n",
    "print(result)"
   ]
  },
  {
   "cell_type": "markdown",
   "id": "8f1f217c",
   "metadata": {},
   "source": [
    "### Problem 2"
   ]
  },
  {
   "cell_type": "code",
   "execution_count": 4,
   "id": "ab2702b8",
   "metadata": {},
   "outputs": [
    {
     "name": "stdout",
     "output_type": "stream",
     "text": [
      "Guess a word: Hydro\n",
      "1\n"
     ]
    }
   ],
   "source": [
    "# Problem 2  \n",
    "   \n",
    "\n",
    "phrase = \"Hydro\"\n",
    "    \n",
    "def problem_2():\n",
    "    counter = 0\n",
    "    \n",
    "    while counter < 3:\n",
    "        guess = input(\"Guess a word: \")\n",
    "        if guess == phrase:\n",
    "            return 1\n",
    "        else:\n",
    "            counter += 1\n",
    "            if counter == 3:\n",
    "                return 0\n",
    "            else:\n",
    "                print(\"Try Again\")\n",
    "    return 0\n",
    "            \n",
    "    \n",
    "print(problem_2())"
   ]
  },
  {
   "cell_type": "markdown",
   "id": "a9520f8d",
   "metadata": {},
   "source": [
    "### Problem 3"
   ]
  },
  {
   "cell_type": "code",
   "execution_count": 5,
   "id": "de4f3042",
   "metadata": {},
   "outputs": [
    {
     "name": "stdout",
     "output_type": "stream",
     "text": [
      "Temperature: 45\n",
      "What is the unit of your temperature (F, K, or C): F\n",
      "Choose your conversion (F, K, or C): C\n",
      "7.222222222222222\n"
     ]
    }
   ],
   "source": [
    "temp = float(input(\"Temperature: \"))\n",
    "original_format = input(\"What is the unit of your temperature (F, K, or C): \")\n",
    "new_format = input(\"Choose your conversion (F, K, or C): \")\n",
    "\n",
    "def problem_3(x, original_format, new_format):\n",
    "    if new_format == \"F\" and original_format == \"C\":\n",
    "        temp = ((9/5) * x) + 32\n",
    "    elif new_format == \"C\" and original_format == \"F\":\n",
    "        temp = (x - 32)* 5/9\n",
    "    elif new_format == \"C\" and original_format == \"K\":\n",
    "        temp = x - 273.15\n",
    "    elif new_format == \"F\" and original_format == \"K\":\n",
    "        temp =((9/5) * (x - 273.15)) + 32\n",
    "    elif new_format == \"K\" and original_format == \"C\":\n",
    "        temp = x + 273.15\n",
    "    elif new_format == \"K\" and original_format == \"F\":\n",
    "        temp = ((x - 32)* 5/9) + 273.15\n",
    "    else:\n",
    "        print(\"Invalid Input\")\n",
    "    \n",
    "    return temp\n",
    "\n",
    "\n",
    "\n",
    "print(problem_3(temp, original_format, new_format))"
   ]
  },
  {
   "cell_type": "markdown",
   "id": "7a99d0e7",
   "metadata": {},
   "source": [
    "### Problem 4"
   ]
  },
  {
   "cell_type": "code",
   "execution_count": 6,
   "id": "d96fcbd2",
   "metadata": {},
   "outputs": [
    {
     "name": "stdout",
     "output_type": "stream",
     "text": [
      "How much is the change?: 156\n",
      "1P:1/25C:2/10C:0/5C:1/1C:1\n"
     ]
    }
   ],
   "source": [
    "# Write a function called problem_4 that takes 1 positional argument amount in centavos. \n",
    "# The function should return a string that describes the appropriate amounts of each type of coin to give to the customer. \n",
    "# The string should be formatted as follows:\n",
    "# \"1P:{num}/25C:{num}/10C:{num}/5C:{num}/1C:{num}\"\n",
    "\n",
    "\n",
    "num = int(input(\"How much is the change?: \"))\n",
    "\n",
    "def problem_4(num):\n",
    "    num1, num2, num3, num4, num5 = 0, 0, 0, 0, 0\n",
    "    \n",
    "    if num >= 100:\n",
    "        num1 = num // 100\n",
    "        num = num % 100\n",
    "    \n",
    "    if num >= 25:\n",
    "        num2 = num // 25\n",
    "        num = num % 25\n",
    "     \n",
    "    if num >= 10:\n",
    "        num3 = num // 10\n",
    "        num = num % 10\n",
    "        \n",
    "    if num >= 5:\n",
    "        num4 = num // 5\n",
    "        num = num % 5\n",
    "    \n",
    "    if num >= 1:\n",
    "        num5 = num // 1\n",
    "     \n",
    "    return (f\"1P:{num1}/25C:{num2}/10C:{num3}/5C:{num4}/1C:{num5}\")\n",
    "        \n",
    "print(problem_4(num))"
   ]
  },
  {
   "cell_type": "markdown",
   "id": "54162e5d",
   "metadata": {},
   "source": [
    "### Problem 5"
   ]
  },
  {
   "cell_type": "code",
   "execution_count": null,
   "id": "a3d6f4c3",
   "metadata": {},
   "outputs": [],
   "source": [
    "# Write a function called problem_5 that takes 1 positional argument (string) message. \n",
    "# The function should return a string whose uppercase letters are now lowercase and whose lowercase letters are now uppercase. \n",
    "# Spaces should be left alone.\n",
    "\n",
    "phrase = input(\"Enter a phrase: \")\n",
    "\n",
    "def problem_5(phrase):\n",
    "    new_phrase = phrase.swapcase()\n",
    "    return new_phrase\n",
    "    \n",
    "print(problem_5(phrase))"
   ]
  },
  {
   "cell_type": "code",
   "execution_count": null,
   "id": "24c022ad",
   "metadata": {},
   "outputs": [],
   "source": []
  },
  {
   "cell_type": "code",
   "execution_count": null,
   "id": "edd2d169",
   "metadata": {},
   "outputs": [],
   "source": []
  }
 ],
 "metadata": {
  "kernelspec": {
   "display_name": "Python 3",
   "language": "python",
   "name": "python3"
  },
  "language_info": {
   "codemirror_mode": {
    "name": "ipython",
    "version": 3
   },
   "file_extension": ".py",
   "mimetype": "text/x-python",
   "name": "python",
   "nbconvert_exporter": "python",
   "pygments_lexer": "ipython3",
   "version": "3.8.8"
  }
 },
 "nbformat": 4,
 "nbformat_minor": 5
}
