#Problem1
number = int(input("Choose a number to get the factorial of: "))

def problem_1(x):
    y = 1
    for i in range(1, x+1):
        y = y*i
    return y
   
result = problem_1(number)
print(result)


#Problem2
phrase = "Hydro"
    
def problem_2():
    counter = 0
    
    while counter < 3:
        guess = input("Guess a word: ")
        if guess == phrase:
            return 1
        else:
            counter += 1
            if counter == 3:
                return 0
            else:
                print("Try Again")
    return 0
            
    
print(problem_2())

#Problem3
temp = float(input("Temperature: "))
original_format = input("What is the unit of your temperature (F, K, or C): ")
new_format = input("Choose your conversion (F, K, or C): ")

def convert(x, original_format, new_format):
    if new_format == "F" and original_format == "C":
        temp = ((9/5) * x) + 32
    elif new_format == "C" and original_format == "F":
        temp = (x - 32)* 5/9
    elif new_format == "C" and original_format == "K":
        temp = x - 273.15
    elif new_format == "F" and original_format == "K":
        temp =((9/5) * (x - 273.15)) + 32
    elif new_format == "K" and original_format == "C":
        temp = x + 273.15
    elif new_format == "K" and original_format == "F":
        temp = ((x - 32)* 5/9) + 273.15
    else:
        print("Invalid Input")
    
    return temp



print(convert(temp, original_format, new_format))

#Problem 4

