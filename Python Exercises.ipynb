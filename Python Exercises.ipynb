{
 "cells": [
  {
   "cell_type": "code",
   "execution_count": 4,
   "id": "d3955cd4",
   "metadata": {},
   "outputs": [
    {
     "name": "stdout",
     "output_type": "stream",
     "text": [
      "1505,1540,1575,1610,1645,1680,1715,1750,1785,1820,1855,1890,1925,1960,1995,2030,2065,2100,2135,2170,2205,2240,2275,2310,2345,2380,2415,2450,2485,2520,2555,2590,2625,2660,2695,2730,2765,2800,"
     ]
    }
   ],
   "source": [
    "# Write a Python program to find those numbers which are divisible by 7 and multiple of 5, between 1500 and 2700 (both included)\n",
    "\n",
    "counter = 1500\n",
    "\n",
    "while  counter <= 2800:\n",
    "    if counter % 7 == 0 and counter % 5 == 0:\n",
    "        print(counter, end = \",\")\n",
    "    \n",
    "    counter += 1"
   ]
  },
  {
   "cell_type": "code",
   "execution_count": null,
   "id": "71da0445",
   "metadata": {},
   "outputs": [],
   "source": [
    "print(\"Hello!\")"
   ]
  },
  {
   "cell_type": "code",
   "execution_count": null,
   "id": "f1012248",
   "metadata": {},
   "outputs": [],
   "source": [
    "# Write a Python program to convert temperatures to and from celsius, fahrenheit.\n",
    "\n",
    "temp = int(input(\"Temperature: \"))\n",
    "unit_choose = input(\"Choose your conversion (F or C): \")\n",
    "\n",
    "def convert(x, unit_choose):\n",
    "    if unit_choose == \"F\":\n",
    "        temp = ((9/5) * x) + 32\n",
    "    elif unit_choose == \"C\":\n",
    "         temp = (x - 32)* 5/9\n",
    "    else:\n",
    "        print(\"Invalid Input\")\n",
    "    \n",
    "    return temp\n",
    "\n",
    "\n",
    "\n",
    "print(convert(temp, unit_choose))\n"
   ]
  },
  {
   "cell_type": "code",
   "execution_count": null,
   "id": "dc3031af",
   "metadata": {},
   "outputs": [],
   "source": [
    "print(\"Hi\")"
   ]
  },
  {
   "cell_type": "code",
   "execution_count": 3,
   "id": "20fc31fc",
   "metadata": {},
   "outputs": [
    {
     "ename": "NameError",
     "evalue": "name 'guess' is not defined",
     "output_type": "error",
     "traceback": [
      "\u001b[1;31m---------------------------------------------------------------------------\u001b[0m",
      "\u001b[1;31mNameError\u001b[0m                                 Traceback (most recent call last)",
      "\u001b[1;32m<ipython-input-3-6b04b33a0d43>\u001b[0m in \u001b[0;36m<module>\u001b[1;34m\u001b[0m\n\u001b[0;32m      6\u001b[0m \u001b[1;33m\u001b[0m\u001b[0m\n\u001b[0;32m      7\u001b[0m \u001b[1;33m\u001b[0m\u001b[0m\n\u001b[1;32m----> 8\u001b[1;33m \u001b[1;32mwhile\u001b[0m \u001b[0mguess\u001b[0m \u001b[1;33m!=\u001b[0m \u001b[0mnumber\u001b[0m\u001b[1;33m:\u001b[0m\u001b[1;33m\u001b[0m\u001b[1;33m\u001b[0m\u001b[0m\n\u001b[0m\u001b[0;32m      9\u001b[0m     \u001b[0mguess\u001b[0m \u001b[1;33m=\u001b[0m \u001b[0mint\u001b[0m\u001b[1;33m(\u001b[0m\u001b[0minput\u001b[0m\u001b[1;33m(\u001b[0m\u001b[1;34m\"Guess a number between 1-9: \"\u001b[0m\u001b[1;33m)\u001b[0m\u001b[1;33m)\u001b[0m\u001b[1;33m\u001b[0m\u001b[1;33m\u001b[0m\u001b[0m\n\u001b[0;32m     10\u001b[0m \u001b[0mprint\u001b[0m\u001b[1;33m(\u001b[0m\u001b[1;34m\"Well guessed!\"\u001b[0m\u001b[1;33m)\u001b[0m\u001b[1;33m\u001b[0m\u001b[1;33m\u001b[0m\u001b[0m\n",
      "\u001b[1;31mNameError\u001b[0m: name 'guess' is not defined"
     ]
    }
   ],
   "source": [
    "# Write a Python program to guess a number between 1 to 9.\n",
    "# User is prompted to enter a guess. If the user guesses wrong then the prompt appears again until the guess is correct\n",
    "# on successful guess, user will get a \"Well guessed!\" message, and the program will exit.\n",
    "\n",
    "number = 5\n",
    "\n",
    "\n",
    "while guess != number:\n",
    "    guess = int(input(\"Guess a number between 1-9: \"))\n",
    "print(\"Well guessed!\")\n",
    "    \n",
    "    "
   ]
  },
  {
   "cell_type": "code",
   "execution_count": null,
   "id": "41268490",
   "metadata": {},
   "outputs": [],
   "source": [
    "import random\n",
    "target_num, guess_num = random.randint(1, 10), 0\n",
    "while target_num != guess_num:\n",
    "    guess_num = int(input('Guess a number between 1 and 10 until you get it right : '))\n",
    "print('Well guessed!')"
   ]
  },
  {
   "cell_type": "markdown",
   "id": "185e7bc7",
   "metadata": {},
   "source": [
    "### Problem 1\n"
   ]
  },
  {
   "cell_type": "code",
   "execution_count": null,
   "id": "3bbcb8f1",
   "metadata": {},
   "outputs": [],
   "source": [
    "# Problem 1\n",
    "\n",
    "number = int(input(\"Choose a number to get the factorial of: \"))\n",
    "\n",
    "def problem_1(x):\n",
    "    y = 1\n",
    "    for i in range(1, x+1):\n",
    "        y = y*i\n",
    "    return y\n",
    "   \n",
    "result = problem_1(number)\n",
    "print(result)"
   ]
  },
  {
   "cell_type": "markdown",
   "id": "713dd486",
   "metadata": {},
   "source": [
    "### Problem 2\n"
   ]
  },
  {
   "cell_type": "code",
   "execution_count": null,
   "id": "e7d7d84a",
   "metadata": {},
   "outputs": [],
   "source": [
    "# Problem 2  \n",
    "   \n",
    "\n",
    "phrase = \"Hydro\"\n",
    "    \n",
    "def problem_2():\n",
    "    counter = 0\n",
    "    \n",
    "    while counter < 3:\n",
    "        guess = input(\"Guess a word: \")\n",
    "        if guess == phrase:\n",
    "            return 1\n",
    "        else:\n",
    "            counter += 1\n",
    "            if counter == 3:\n",
    "                return 0\n",
    "            else:\n",
    "                print(\"Try Again\")\n",
    "    return 0\n",
    "            \n",
    "    \n",
    "print(problem_2())\n"
   ]
  },
  {
   "cell_type": "markdown",
   "id": "581b5739",
   "metadata": {},
   "source": [
    "### Problem 3\n"
   ]
  },
  {
   "cell_type": "code",
   "execution_count": 6,
   "id": "4b499ec0",
   "metadata": {},
   "outputs": [
    {
     "name": "stdout",
     "output_type": "stream",
     "text": [
      "Temperature: 45\n",
      "What is the unit of your temperature (Fahrenheit, Kelvin, or Celsius): Fahrenheit\n",
      "Choose your conversion (Fahrenheit, Kelvin, or Celsius): Celsius\n",
      "7.222222222222222\n"
     ]
    }
   ],
   "source": [
    "temp = float(input(\"Temperature: \"))\n",
    "original_format = input(\"What is the unit of your temperature (Fahrenheit, Kelvin, or Celsius): \")\n",
    "new_format = input(\"Choose your conversion (Fahrenheit, Kelvin, or Celsius): \")\n",
    "\n",
    "def problem_3(x, original_format, new_format):\n",
    "    if new_format == \"Fahrenheit\" and original_format == \"Celsius\":\n",
    "        temp = ((9/5) * x) + 32\n",
    "    elif new_format == \"Celsius\" and original_format == \"Fahrenheit\":\n",
    "        temp = (x - 32)* 5/9\n",
    "    elif new_format == \"Celsius\" and original_format == \"Kelvin\":\n",
    "        temp = x - 273.15\n",
    "    elif new_format == \"Fahrenheit\" and original_format == \"Kelvin\":\n",
    "        temp =((9/5) * (x - 273.15)) + 32\n",
    "    elif new_format == \"Kelvin\" and original_format == \"Celsius\":\n",
    "        temp = x + 273.15\n",
    "    elif new_format == \"Kelvin\" and original_format == \"Fahrenheit\":\n",
    "        temp = ((x - 32)* 5/9) + 273.15\n",
    "    else:\n",
    "        print(\"Invalid Input\")\n",
    "    \n",
    "    return temp\n",
    "\n",
    "\n",
    "print(problem_3(temp, original_format, new_format))\n"
   ]
  },
  {
   "cell_type": "code",
   "execution_count": null,
   "id": "f733c35a",
   "metadata": {},
   "outputs": [],
   "source": [
    "print(\"Hi\")"
   ]
  },
  {
   "cell_type": "markdown",
   "id": "1b9c3224",
   "metadata": {},
   "source": [
    "### Problem 4\n"
   ]
  },
  {
   "cell_type": "code",
   "execution_count": 1,
   "id": "da810428",
   "metadata": {},
   "outputs": [
    {
     "name": "stdout",
     "output_type": "stream",
     "text": [
      "How much is the change?: 432\n",
      "1P:4/25C:1/10C:0/5C:1/1C:2\n"
     ]
    }
   ],
   "source": [
    "# Write a function called problem_4 that takes 1 positional argument amount in centavos. \n",
    "# The function should return a string that describes the appropriate amounts of each type of coin to give to the customer. \n",
    "# The string should be formatted as follows:\n",
    "# \"1P:{num}/25C:{num}/10C:{num}/5C:{num}/1C:{num}\"\n",
    "\n",
    "\n",
    "num = int(input(\"How much is the change?: \"))\n",
    "\n",
    "def problem_4(num):\n",
    "    num1, num2, num3, num4, num5 = 0, 0, 0, 0, 0\n",
    "    \n",
    "    if num >= 100:\n",
    "        num1 = num // 100\n",
    "        num = num % 100\n",
    "    \n",
    "    if num >= 25:\n",
    "        num2 = num // 25\n",
    "        num = num % 25\n",
    "     \n",
    "    if num >= 10:\n",
    "        num3 = num // 10\n",
    "        num = num % 10\n",
    "        \n",
    "    if num >= 5:\n",
    "        num4 = num // 5\n",
    "        num = num % 5\n",
    "    \n",
    "    if num >= 1:\n",
    "        num5 = num // 1\n",
    "     \n",
    "    return (f\"1P:{num1}/25C:{num2}/10C:{num3}/5C:{num4}/1C:{num5}\")\n",
    "        \n",
    "print(problem_4(num))\n"
   ]
  },
  {
   "cell_type": "markdown",
   "id": "d65f4045",
   "metadata": {},
   "source": [
    "### Problem 5\n"
   ]
  },
  {
   "cell_type": "code",
   "execution_count": null,
   "id": "9044fc22",
   "metadata": {},
   "outputs": [],
   "source": [
    "# Write a function called problem_5 that takes 1 positional argument (string) message. \n",
    "# The function should return a string whose uppercase letters are now lowercase and whose lowercase letters are now uppercase. \n",
    "# Spaces should be left alone.\n",
    "\n",
    "phrase = input(\"Enter a phrase: \")\n",
    "\n",
    "def problem_5(phrase):\n",
    "    new_phrase = phrase.swapcase()\n",
    "    return new_phrase\n",
    "    \n",
    "print(problem_5(phrase))\n",
    "    "
   ]
  },
  {
   "cell_type": "code",
   "execution_count": null,
   "id": "4b6f3f28",
   "metadata": {},
   "outputs": [],
   "source": []
  }
 ],
 "metadata": {
  "kernelspec": {
   "display_name": "Python 3",
   "language": "python",
   "name": "python3"
  },
  "language_info": {
   "codemirror_mode": {
    "name": "ipython",
    "version": 3
   },
   "file_extension": ".py",
   "mimetype": "text/x-python",
   "name": "python",
   "nbconvert_exporter": "python",
   "pygments_lexer": "ipython3",
   "version": "3.8.8"
  }
 },
 "nbformat": 4,
 "nbformat_minor": 5
}
